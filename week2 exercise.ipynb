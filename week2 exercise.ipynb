{
  "nbformat": 4,
  "nbformat_minor": 0,
  "metadata": {
    "colab": {
      "name": "02.ipynb",
      "provenance": [],
      "collapsed_sections": [],
      "include_colab_link": true
    },
    "kernelspec": {
      "name": "python3",
      "display_name": "Python 3"
    },
    "language_info": {
      "name": "python"
    }
  },
  "cells": [
    {
      "cell_type": "markdown",
      "metadata": {
        "id": "view-in-github",
        "colab_type": "text"
      },
      "source": [
        "<a href=\"https://colab.research.google.com/github/ysun155/Math140/blob/main/week2%20exercise.ipynb\" target=\"_parent\"><img src=\"https://colab.research.google.com/assets/colab-badge.svg\" alt=\"Open In Colab\"/></a>"
      ]
    },
    {
      "cell_type": "markdown",
      "source": [
        "#Problem 7:\n",
        "You have acquired the following sample set:\n",
        "$$\n",
        "w=\\left\\{\n",
        "  \\begin{pmatrix} -1 \\\\ -2 \\end{pmatrix},\n",
        "  \\begin{pmatrix} 1 \\\\ 3 \\end{pmatrix},\n",
        "  \\begin{pmatrix} 0 \\\\ 1 \\end{pmatrix},\n",
        "  \\begin{pmatrix} 2 \\\\ 0.5 \\end{pmatrix}\n",
        "  \\right\\}\n",
        "$$\n",
        "Perform PCA (principal component analysis) on w and draw a graph containing the samples, principal components and the projected samples."
      ],
      "metadata": {
        "id": "GKBQjJ6fDSsg"
      }
    },
    {
      "cell_type": "markdown",
      "source": [
        "#Step by step calculation"
      ],
      "metadata": {
        "id": "E_rdXy-U59ll"
      }
    },
    {
      "cell_type": "code",
      "source": [
        "from matplotlib import pyplot as plt\n",
        "from sklearn.linear_model import LinearRegression\n",
        "import numpy as np\n",
        "from numpy import dot\n",
        "from numpy import array\n",
        "from numpy import mean\n",
        "from numpy import cov\n",
        "from numpy.linalg import eig"
      ],
      "metadata": {
        "id": "xwwiVar1DWS9"
      },
      "execution_count": 38,
      "outputs": []
    },
    {
      "cell_type": "code",
      "source": [
        "# define a matrix\n",
        "A = array([[-1, -2], [1, 3], [0, 1], [2,0.5]])\n",
        "print(A)"
      ],
      "metadata": {
        "colab": {
          "base_uri": "https://localhost:8080/"
        },
        "id": "mY1YrHcKFlXC",
        "outputId": "f40ffd9f-6019-4ac1-f0f3-10deb7abbaff"
      },
      "execution_count": 39,
      "outputs": [
        {
          "output_type": "stream",
          "name": "stdout",
          "text": [
            "[[-1.  -2. ]\n",
            " [ 1.   3. ]\n",
            " [ 0.   1. ]\n",
            " [ 2.   0.5]]\n"
          ]
        }
      ]
    },
    {
      "cell_type": "code",
      "source": [
        "# calculate the mean of each column\n",
        "M = mean(A, axis=0)\n",
        "print(M)"
      ],
      "metadata": {
        "colab": {
          "base_uri": "https://localhost:8080/"
        },
        "id": "bjfrYYLgFtum",
        "outputId": "afaa4692-0b64-441b-93b2-c7c4adad4276"
      },
      "execution_count": 40,
      "outputs": [
        {
          "output_type": "stream",
          "name": "stdout",
          "text": [
            "[0.5   0.625]\n"
          ]
        }
      ]
    },
    {
      "cell_type": "code",
      "source": [
        "# center columns by subtracting column means\n",
        "C = A - M\n",
        "print(C)"
      ],
      "metadata": {
        "colab": {
          "base_uri": "https://localhost:8080/"
        },
        "id": "8LHo5_zEHUSB",
        "outputId": "21791fa1-6b07-43c4-cc8f-cd5e14af1128"
      },
      "execution_count": 41,
      "outputs": [
        {
          "output_type": "stream",
          "name": "stdout",
          "text": [
            "[[-1.5   -2.625]\n",
            " [ 0.5    2.375]\n",
            " [-0.5    0.375]\n",
            " [ 1.5   -0.125]]\n"
          ]
        }
      ]
    },
    {
      "cell_type": "code",
      "source": [
        "# calculate covariance matrix of centered matrix\n",
        "V = cov(C.T)\n",
        "print(V)"
      ],
      "metadata": {
        "colab": {
          "base_uri": "https://localhost:8080/"
        },
        "id": "cvXHcnMmHZYI",
        "outputId": "05107b54-c410-474e-d440-d4291d4d7f18"
      },
      "execution_count": 42,
      "outputs": [
        {
          "output_type": "stream",
          "name": "stdout",
          "text": [
            "[[1.66666667 1.58333333]\n",
            " [1.58333333 4.22916667]]\n"
          ]
        }
      ]
    },
    {
      "cell_type": "code",
      "source": [
        "# eigenvalues and eigenvectors of covariance matrix\n",
        "values, vectors = eig(V)\n",
        "print(vectors)\n",
        "print(values)"
      ],
      "metadata": {
        "colab": {
          "base_uri": "https://localhost:8080/"
        },
        "id": "wtGGotqmHebI",
        "outputId": "88eec572-efe9-4718-f502-ee60ae83f157"
      },
      "execution_count": 43,
      "outputs": [
        {
          "output_type": "stream",
          "name": "stdout",
          "text": [
            "[[-0.90251069 -0.43066745]\n",
            " [ 0.43066745 -0.90251069]]\n",
            "[0.91111869 4.98471465]\n"
          ]
        }
      ]
    },
    {
      "cell_type": "code",
      "execution_count": null,
      "metadata": {
        "id": "MzLWzUBBG4x0",
        "colab": {
          "base_uri": "https://localhost:8080/"
        },
        "outputId": "95ad30a2-f32a-474c-a7bf-a435ba2ce600"
      },
      "outputs": [
        {
          "output_type": "stream",
          "name": "stdout",
          "text": [
            "[[ 0.22326398  3.01509174]\n",
            " [ 0.57157985 -2.35879662]\n",
            " [ 0.61275564 -0.12310778]\n",
            " [-1.40759947 -0.53318734]]\n"
          ]
        }
      ],
      "source": [
        "# project data\n",
        "P = dot(vectors.T, C.T)\n",
        "print(P.T)"
      ]
    },
    {
      "cell_type": "markdown",
      "source": [
        "#Calculation with sklearn.decomposition"
      ],
      "metadata": {
        "id": "Vvbyw8HK6LLl"
      }
    },
    {
      "cell_type": "code",
      "source": [
        "from numpy import array\n",
        "from sklearn.decomposition import PCA\n",
        "\n",
        "# define a matrix\n",
        "A = array([[-1, -2], [1, 3], [0, 1], [2,0.5]])\n",
        "print('original data:')\n",
        "print(A)\n",
        "\n",
        "# create the PCA instance\n",
        "pca = PCA(1)\n",
        "# fit on data\n",
        "pca.fit(A)\n",
        "\n",
        "# access values and vectors\n",
        "print('principal components:')\n",
        "print(pca.components_)\n",
        "print('explained variance:')\n",
        "print(pca.explained_variance_)\n",
        "\n",
        "# transform data\n",
        "B = pca.transform(A)\n",
        "print('projected data:')\n",
        "print(B)"
      ],
      "metadata": {
        "colab": {
          "base_uri": "https://localhost:8080/"
        },
        "id": "cV0gI4O36NCX",
        "outputId": "bc399673-7663-482e-f2dc-6b67f8ffb210"
      },
      "execution_count": null,
      "outputs": [
        {
          "output_type": "stream",
          "name": "stdout",
          "text": [
            "original data:\n",
            "[[-1.  -2. ]\n",
            " [ 1.   3. ]\n",
            " [ 0.   1. ]\n",
            " [ 2.   0.5]]\n",
            "principal components:\n",
            "[[-0.43066745 -0.90251069]]\n",
            "explained variance:\n",
            "[4.98471465]\n",
            "projected data:\n",
            "[[ 3.01509174]\n",
            " [-2.35879662]\n",
            " [-0.12310778]\n",
            " [-0.53318734]]\n"
          ]
        }
      ]
    },
    {
      "cell_type": "markdown",
      "source": [
        "#Visualization"
      ],
      "metadata": {
        "id": "VDNWqela6GDn"
      }
    },
    {
      "cell_type": "code",
      "source": [
        "#find lines of best fit\n",
        "pa, pb = np.polyfit(P.T[:,0], P.T[:,1], 1)\n",
        "a, b = np.polyfit(A[:,0], A[:,1], 1)\n",
        "\n",
        "# Plot everything\n",
        "fig = plt.figure()\n",
        "ax1 = fig.add_subplot(111)\n",
        "\n",
        "ax1.scatter(A[:,0], A[:,1], s=10, c='blue', marker=\"s\", label='Initial data')\n",
        "# plt.plot(A[:,0], a*A[:,0]+b, color='blue', linestyle='--', linewidth=2)\n",
        "\n",
        "ax1.scatter(P.T[:,0],P.T[:,1], s=10, c='r', marker=\"o\", label='Projected Data')\n",
        "# plt.plot(P.T[:,0], pa*P.T[:,0]+pb, color='r', linestyle='--', linewidth=2)\n",
        "\n",
        "# Vector origin location\n",
        "X = [0]\n",
        "Y = [0]\n",
        "# Directional vectors\n",
        "U = pca.components_[0][1]\n",
        "V = pca.components_[0][0]\n",
        "plt.quiver(X, Y, U, V, color='b', units='xy', scale=1)\n",
        "\n",
        "plt.legend(loc='upper left');\n",
        "# plt.title(\"\")\n",
        "plt.show()"
      ],
      "metadata": {
        "colab": {
          "base_uri": "https://localhost:8080/",
          "height": 265
        },
        "id": "nzcMHmdzsgjE",
        "outputId": "21808a83-469e-4e34-f7a2-9fbcb0a95ec6"
      },
      "execution_count": null,
      "outputs": [
        {
          "output_type": "display_data",
          "data": {
            "text/plain": [
              "<Figure size 432x288 with 1 Axes>"
            ],
            "image/png": "[encoded data removed]"
          },
          "metadata": {
            "needs_background": "light"
          }
        }
      ]
    }
  ]
}