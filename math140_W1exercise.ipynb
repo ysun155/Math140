{
  "nbformat": 4,
  "nbformat_minor": 0,
  "metadata": {
    "colab": {
      "name": "math140 W1exercise.ipynb",
      "provenance": [],
      "authorship_tag": "ABX9TyNxG4HFnyr43MixXNWx2TDm",
      "include_colab_link": true
    },
    "kernelspec": {
      "name": "python3",
      "display_name": "Python 3"
    },
    "language_info": {
      "name": "python"
    }
  },
  "cells": [
    {
      "cell_type": "markdown",
      "metadata": {
        "id": "view-in-github",
        "colab_type": "text"
      },
      "source": [
        "<a href=\"https://colab.research.google.com/github/ysun155/Math140/blob/main/math140_W1exercise.ipynb\" target=\"_parent\"><img src=\"https://colab.research.google.com/assets/colab-badge.svg\" alt=\"Open In Colab\"/></a>"
      ]
    },
    {
      "cell_type": "code",
      "execution_count": 2,
      "metadata": {
        "colab": {
          "base_uri": "https://localhost:8080/"
        },
        "id": "DMzRPQJ4OrPG",
        "outputId": "782d67e0-df9d-40be-ae82-7e4c3e1296ed"
      },
      "outputs": [
        {
          "output_type": "stream",
          "name": "stdout",
          "text": [
            "[[110. 153. 144. 150. 140. 144. 126. 126.]\n",
            " [116. 141. 149. 192. 187. 189. 136. 126.]\n",
            " [144. 203. 220. 177. 197. 181. 170. 128.]\n",
            " [161. 162. 209. 216. 192. 164. 169. 126.]\n",
            " [161. 176. 195. 177. 175. 206. 158. 123.]\n",
            " [139. 165. 179. 191. 181. 171. 151. 143.]\n",
            " [116. 155. 176. 166. 165. 138. 147. 113.]\n",
            " [125. 112. 141. 139. 123. 124. 126.  95.]]\n",
            "[[0.011  0.0153 0.0144 0.015  0.014  0.0144 0.0126 0.0126]\n",
            " [0.0116 0.0141 0.0149 0.0192 0.0187 0.0189 0.0136 0.0126]\n",
            " [0.0144 0.0203 0.022  0.0177 0.0197 0.0181 0.017  0.0128]\n",
            " [0.0161 0.0162 0.0209 0.0216 0.0192 0.0164 0.0169 0.0126]\n",
            " [0.0161 0.0176 0.0195 0.0177 0.0175 0.0206 0.0158 0.0123]\n",
            " [0.0139 0.0165 0.0179 0.0191 0.0181 0.0171 0.0151 0.0143]\n",
            " [0.0116 0.0155 0.0176 0.0166 0.0165 0.0138 0.0147 0.0113]\n",
            " [0.0125 0.0112 0.0141 0.0139 0.0123 0.0124 0.0126 0.0095]]\n"
          ]
        }
      ],
      "source": [
        "import numpy as np\n",
        "import random\n",
        "\n",
        "# To generate random knight move\n",
        "def gen_random_move():\n",
        "  new_row = 0\n",
        "  new_col = 0\n",
        "\n",
        "  rand_move = random.choice([\"up\", \"down\", \"right\", \"left\"])\n",
        "  if rand_move == \"up\":\n",
        "    new_col += 2\n",
        "    if random.choice([\"left\", \"right\"]) == \"left\":\n",
        "      new_row -= 1\n",
        "    else:\n",
        "      new_row += 1\n",
        "  elif rand_move == \"down\":\n",
        "    new_col -= 2\n",
        "    if random.choice([\"left\", \"right\"]) == \"left\":\n",
        "      new_row -= 1\n",
        "    else:\n",
        "      new_row += 1\n",
        "  elif rand_move == \"right\":\n",
        "    new_row += 2\n",
        "    if random.choice([\"up\", \"down\"]) == \"down\":\n",
        "      new_col -= 1\n",
        "    else:\n",
        "      new_col += 1\n",
        "  elif rand_move == \"left\":\n",
        "    new_row -= 2\n",
        "    if random.choice([\"up\", \"down\"]) == \"down\":\n",
        "      new_col -= 1\n",
        "    else:\n",
        "      new_col += 1\n",
        "\n",
        "  return [new_row, new_col]\n",
        "\n",
        "# Create chess board, specify its size\n",
        "rows = 8\n",
        "columns = 8\n",
        "chess_board = np.zeros((rows, columns))\n",
        "\n",
        "# Number of simulation iterations to run\n",
        "iter = 10000\n",
        "\n",
        "# To generate random starting position\n",
        "def gen_init_pos():\n",
        "  row = random.randint(0, rows)\n",
        "  column = random.randint(0, columns)\n",
        "\n",
        "  return [row, column]\n",
        "\n",
        "# Generates number of moves at each position\n",
        "def gen_sim():\n",
        "\n",
        "  curr_pos = gen_init_pos() # Starting in random position\n",
        "\n",
        "  invalid_move = True\n",
        "\n",
        "  for i in range(iter):\n",
        "    while invalid_move:\n",
        "      try:\n",
        "        move = gen_random_move()\n",
        "\n",
        "        chess_board[curr_pos[0]+move[0], curr_pos[1]+move[1]] += 1\n",
        "        curr_pos = [curr_pos[0]+move[0], curr_pos[1]+move[1]]\n",
        "        \n",
        "        invalid_move = False\n",
        "        break\n",
        "      except:\n",
        "        # If generated invalid move\n",
        "        continue\n",
        "\n",
        "    invalid_move = True\n",
        "  \n",
        "  return chess_board\n",
        "\n",
        "# Generates ocurrance percentage at each position\n",
        "def gen_sim_pct():\n",
        "  for i in range(rows):\n",
        "    for j in range(columns):\n",
        "      chess_board[i][j] /= iter\n",
        "\n",
        "  return chess_board\n",
        "\n",
        "print(gen_sim())\n",
        "print(gen_sim_pct())"
      ]
    },
    {
      "cell_type": "code",
      "source": [
        ""
      ],
      "metadata": {
        "id": "jk0eoWCOOsF8"
      },
      "execution_count": null,
      "outputs": []
    }
  ]
}