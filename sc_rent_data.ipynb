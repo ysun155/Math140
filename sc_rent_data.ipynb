{
  "nbformat": 4,
  "nbformat_minor": 0,
  "metadata": {
    "colab": {
      "name": "sc_rent_data.ipynb",
      "provenance": []
    },
    "kernelspec": {
      "name": "python3",
      "display_name": "Python 3"
    },
    "language_info": {
      "name": "python"
    }
  },
  "cells": [
    {
      "cell_type": "code",
      "source": [
        "import os\n",
        "import requests\n",
        "from bs4 import BeautifulSoup\n",
        "import glob\n",
        "import errno\n",
        "import pandas as pd"
      ],
      "metadata": {
        "id": "Ff7dk7YYzEyi"
      },
      "execution_count": null,
      "outputs": []
    },
    {
      "cell_type": "code",
      "source": [
        "URL = \"https://www.datasharescc.org/demographicdata?id=281&sectionId=936\"\n",
        "r = requests.get(URL)\n",
        "soup = BeautifulSoup(r.content, 'html5lib')"
      ],
      "metadata": {
        "id": "uxw1TGOwBlQj"
      },
      "execution_count": null,
      "outputs": []
    },
    {
      "cell_type": "code",
      "source": [
        "tables = (soup.find_all('table'))"
      ],
      "metadata": {
        "id": "BJnywPx7B5sl"
      },
      "execution_count": null,
      "outputs": []
    },
    {
      "cell_type": "code",
      "source": [
        "# Getting the data\n",
        "table0 = []\n",
        "table1 = []\n",
        "table2 = []\n",
        "table3 = []\n",
        "\n",
        "for i in range(len(tables)):\n",
        "  rows = tables[i].find(\"tbody\").find_all(\"tr\")\n",
        "  count = 0\n",
        "  data = []\n",
        "\n",
        "  for j in range(len(rows)):\n",
        "    rowData = rows[j].find_all(\"td\")\n",
        "\n",
        "    for k in range(len(rowData)):\n",
        "      data.append(rowData[k].text)\n",
        "    \n",
        "    if i==0:\n",
        "      table0.append(data)\n",
        "    if i==1:\n",
        "      table1.append(data)\n",
        "    if i==2:\n",
        "      table2.append(data)\n",
        "    if i==3:\n",
        "      table3.append(data)\n",
        "\n",
        "    data=[]"
      ],
      "metadata": {
        "id": "F60FPNV7NB3S"
      },
      "execution_count": null,
      "outputs": []
    },
    {
      "cell_type": "code",
      "source": [
        "# Cleaning the data\n",
        "def cleanData(table):\n",
        "  for i in range(len(table)):\n",
        "    for j in range(len(table[i])):\n",
        "      table[i][j] = (table[i][j].strip()).replace(\"\\n\", \"\")\n",
        "\n",
        "cleanData(table0)\n",
        "cleanData(table1)\n",
        "cleanData(table2)\n",
        "cleanData(table3)"
      ],
      "metadata": {
        "id": "eULM5UpKJcXK"
      },
      "execution_count": null,
      "outputs": []
    },
    {
      "cell_type": "code",
      "source": [
        "df0 = pd.DataFrame(table0)\n",
        "df1 = pd.DataFrame(table1)\n",
        "df2 = pd.DataFrame(table2)\n",
        "df3 = pd.DataFrame(table3)"
      ],
      "metadata": {
        "id": "NVd6bPFiKYje"
      },
      "execution_count": null,
      "outputs": []
    },
    {
      "cell_type": "code",
      "source": [
        "print(df0)\n",
        "print(df1)\n",
        "print(df2)\n",
        "print(df3)\n",
        "\n",
        "print(table0)\n",
        "print(table1)\n",
        "print(table2)\n",
        "print(table3)"
      ],
      "metadata": {
        "colab": {
          "base_uri": "https://localhost:8080/"
        },
        "id": "Ou55R4vqKuUo",
        "outputId": "3e9cb78d-97cc-45a4-f40d-ca3c38441292"
      },
      "execution_count": null,
      "outputs": [
        {
          "output_type": "stream",
          "name": "stdout",
          "text": [
            "           0       1       2          3       4\n",
            "0   1-Person  26,825  27.58%  3,152,592  23.56%\n",
            "1   2-Person  31,117  31.99%  3,820,854  28.56%\n",
            "2   3-Person  15,357  15.79%  2,200,381  16.45%\n",
            "3   4-Person  12,220  12.56%  1,954,564  14.61%\n",
            "4   5-Person   5,883   6.05%  1,121,318   8.38%\n",
            "5   6-Person   2,944   3.03%    573,492   4.29%\n",
            "6  7+ Person   2,931   3.01%    556,627   4.16%\n",
            "                      0       1       2          3       4\n",
            "0         Under $15,000   6,024   6.19%    974,219   7.28%\n",
            "1     $15,000 - $24,999   6,074   6.24%    829,565   6.20%\n",
            "2     $25,000 - $34,999   5,884   6.05%    835,405   6.24%\n",
            "3     $35,000 - $49,999   7,892   8.11%  1,252,257   9.36%\n",
            "4     $50,000 - $74,999  11,512  11.83%  1,873,753  14.00%\n",
            "5     $75,000 - $99,999  10,493  10.79%  1,596,412  11.93%\n",
            "6   $100,000 - $124,999   9,344   9.61%  1,338,572  10.00%\n",
            "7   $125,000 - $149,999   7,876   8.10%  1,065,152   7.96%\n",
            "8   $150,000 - $199,999  10,805  11.11%  1,307,926   9.78%\n",
            "9   $200,000 - $249,999   6,521   6.70%    758,660   5.67%\n",
            "10  $250,000 - $499,999   8,230   8.46%    876,154   6.55%\n",
            "11            $500,000+   6,622   6.81%    671,753   5.02%\n",
            "                                  0         1         2\n",
            "0                               All  $147,733  $129,700\n",
            "1                             White  $126,295  $113,625\n",
            "2            Black/African American   $98,042   $82,755\n",
            "3    American Indian/Alaskan Native  $100,770   $85,459\n",
            "4                             Asian  $112,691  $129,779\n",
            "5  Native Hawaiian/Pacific Islander  $151,133  $103,177\n",
            "6                   Some Other Race   $86,104   $81,400\n",
            "7                          2+ Races  $114,706  $109,235\n",
            "8                   Hispanic/Latino  $107,522   $95,285\n",
            "9               Non-Hispanic/Latino  $159,877  $144,334\n",
            "                                  0         1         2\n",
            "0                               All  $102,032   $89,481\n",
            "1                             White  $110,533   $94,340\n",
            "2            Black/African American   $73,026   $63,202\n",
            "3    American Indian/Alaskan Native   $78,816   $67,051\n",
            "4                             Asian   $90,140  $116,313\n",
            "5  Native Hawaiian/Pacific Islander  $121,154   $89,942\n",
            "6                   Some Other Race   $71,020   $66,508\n",
            "7                          2+ Races   $91,548   $90,898\n",
            "8                   Hispanic/Latino   $72,464   $69,970\n",
            "9               Non-Hispanic/Latino  $113,406  $100,660\n",
            "[['1-Person', '26,825', '27.58%', '3,152,592', '23.56%'], ['2-Person', '31,117', '31.99%', '3,820,854', '28.56%'], ['3-Person', '15,357', '15.79%', '2,200,381', '16.45%'], ['4-Person', '12,220', '12.56%', '1,954,564', '14.61%'], ['5-Person', '5,883', '6.05%', '1,121,318', '8.38%'], ['6-Person', '2,944', '3.03%', '573,492', '4.29%'], ['7+ Person', '2,931', '3.01%', '556,627', '4.16%']]\n",
            "[['Under $15,000', '6,024', '6.19%', '974,219', '7.28%'], ['$15,000 - $24,999', '6,074', '6.24%', '829,565', '6.20%'], ['$25,000 - $34,999', '5,884', '6.05%', '835,405', '6.24%'], ['$35,000 - $49,999', '7,892', '8.11%', '1,252,257', '9.36%'], ['$50,000 - $74,999', '11,512', '11.83%', '1,873,753', '14.00%'], ['$75,000 - $99,999', '10,493', '10.79%', '1,596,412', '11.93%'], ['$100,000 - $124,999', '9,344', '9.61%', '1,338,572', '10.00%'], ['$125,000 - $149,999', '7,876', '8.10%', '1,065,152', '7.96%'], ['$150,000 - $199,999', '10,805', '11.11%', '1,307,926', '9.78%'], ['$200,000 - $249,999', '6,521', '6.70%', '758,660', '5.67%'], ['$250,000 - $499,999', '8,230', '8.46%', '876,154', '6.55%'], ['$500,000+', '6,622', '6.81%', '671,753', '5.02%']]\n",
            "[['All', '$147,733', '$129,700'], ['White', '$126,295', '$113,625'], ['Black/African American', '$98,042', '$82,755'], ['American Indian/Alaskan Native', '$100,770', '$85,459'], ['Asian', '$112,691', '$129,779'], ['Native Hawaiian/Pacific Islander', '$151,133', '$103,177'], ['Some Other Race', '$86,104', '$81,400'], ['2+ Races', '$114,706', '$109,235'], ['Hispanic/Latino', '$107,522', '$95,285'], ['Non-Hispanic/Latino', '$159,877', '$144,334']]\n",
            "[['All', '$102,032', '$89,481'], ['White', '$110,533', '$94,340'], ['Black/African American', '$73,026', '$63,202'], ['American Indian/Alaskan Native', '$78,816', '$67,051'], ['Asian', '$90,140', '$116,313'], ['Native Hawaiian/Pacific Islander', '$121,154', '$89,942'], ['Some Other Race', '$71,020', '$66,508'], ['2+ Races', '$91,548', '$90,898'], ['Hispanic/Latino', '$72,464', '$69,970'], ['Non-Hispanic/Latino', '$113,406', '$100,660']]\n"
          ]
        }
      ]
    },
    {
      "cell_type": "code",
      "source": [
        "# If you want to export csv:\n",
        "\n",
        "df3.columns =['column0 name', 'column1 name', 'column2 name']\n",
        "df3.to_csv('name of the csv file to create', encoding='utf-8', index=False)"
      ],
      "metadata": {
        "id": "vG5HPlA8SXv8"
      },
      "execution_count": null,
      "outputs": []
    },
    {
      "cell_type": "code",
      "source": [
        "\"\"\"\n",
        "What I did to get the zumper data\n",
        "\"\"\"\n",
        "\n",
        "# dir_path = 'sc_rent_data/'\n",
        "# files = ['1bed', '2bed', '3bed', 'studio']\n",
        "\n",
        "# house_type = []\n",
        "# prices = []\n",
        "# dates = []\n",
        "\n",
        "# for name in files:\n",
        "#   with open(dir_path + name + '.html') as f:\n",
        "\n",
        "#       soup = BeautifulSoup(f, \"html.parser\")\n",
        "#       table = (soup.find('div', attrs = {'id':'price-table-tabpanel'})).find('table')\n",
        "#       rows = table.findChildren(['td'])\n",
        "      \n",
        "#       for i in range(len(rows)):\n",
        "#         if i%2 == 0:\n",
        "#           house_type.append(name)\n",
        "#           dates.append(rows[i].text)\n",
        "#         else:\n",
        "#           prices.append(((rows[i].text)[1:]).replace(',', ''))"
      ],
      "metadata": {
        "id": "gnIrr4Q35lz_",
        "colab": {
          "base_uri": "https://localhost:8080/",
          "height": 35
        },
        "outputId": "78373dec-5b89-4b76-b9c2-04d90ae7ef7d"
      },
      "execution_count": null,
      "outputs": [
        {
          "output_type": "execute_result",
          "data": {
            "text/plain": [
              "'\\nWhat I did to get the zumper data\\n'"
            ],
            "application/vnd.google.colaboratory.intrinsic+json": {
              "type": "string"
            }
          },
          "metadata": {},
          "execution_count": 27
        }
      ]
    },
    {
      "cell_type": "code",
      "source": [
        ""
      ],
      "metadata": {
        "id": "ryDe-LM8Te0o"
      },
      "execution_count": null,
      "outputs": []
    }
  ]
}