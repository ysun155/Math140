{
  "nbformat": 4,
  "nbformat_minor": 0,
  "metadata": {
    "colab": {
      "name": "sc_rent_project.ipynb",
      "provenance": []
    },
    "kernelspec": {
      "name": "python3",
      "display_name": "Python 3"
    },
    "language_info": {
      "name": "python"
    }
  },
  "cells": [
    {
      "cell_type": "code",
      "execution_count": null,
      "metadata": {
        "id": "3dBqQnr4GHYi",
        "colab": {
          "base_uri": "https://localhost:8080/"
        },
        "outputId": "4d82cdf8-94c6-4a3b-805c-46526b26cd5e"
      },
      "outputs": [
        {
          "output_type": "stream",
          "name": "stdout",
          "text": [
            "Drive already mounted at /content/drive; to attempt to forcibly remount, call drive.mount(\"/content/drive\", force_remount=True).\n"
          ]
        }
      ],
      "source": [
        "from google.colab import drive\n",
        "drive.mount('/content/drive')"
      ]
    },
    {
      "cell_type": "code",
      "source": [
        "import pandas as pd"
      ],
      "metadata": {
        "id": "LYV_U3DxGsAX"
      },
      "execution_count": null,
      "outputs": []
    },
    {
      "cell_type": "code",
      "source": [
        "# df = pd.read_csv('/content/drive/MyDrive/zumper_sc_rent_data')\n",
        "df = pd.read_csv('/content/drive/Shareddrives/Math140Project/zumper_sc_rent_data')"
      ],
      "metadata": {
        "id": "kQEVrvUlG4sA"
      },
      "execution_count": null,
      "outputs": []
    },
    {
      "cell_type": "code",
      "source": [
        "print(df)"
      ],
      "metadata": {
        "colab": {
          "base_uri": "https://localhost:8080/"
        },
        "id": "SJRPHuRmKRkQ",
        "outputId": "1e4402db-d418-48ac-8972-22b961c91672"
      },
      "execution_count": null,
      "outputs": [
        {
          "output_type": "stream",
          "name": "stdout",
          "text": [
            "       type          month  median rent\n",
            "0      1bed  November 2014         1785\n",
            "1      1bed  December 2014         1703\n",
            "2      1bed   January 2015         1711\n",
            "3      1bed  February 2015         1850\n",
            "4      1bed     March 2015         1781\n",
            "..      ...            ...          ...\n",
            "330  studio  December 2021         1150\n",
            "331  studio   January 2022         1716\n",
            "332  studio  February 2022         2124\n",
            "333  studio     March 2022         2396\n",
            "334  studio     April 2022         2449\n",
            "\n",
            "[335 rows x 3 columns]\n"
          ]
        }
      ]
    },
    {
      "cell_type": "code",
      "source": [
        ""
      ],
      "metadata": {
        "id": "ci4cndQUKa-S"
      },
      "execution_count": null,
      "outputs": []
    }
  ]
}